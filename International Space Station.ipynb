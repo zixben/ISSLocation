{
 "cells": [
  {
   "cell_type": "code",
   "execution_count": 3,
   "id": "fc6dfc1d",
   "metadata": {},
   "outputs": [
    {
     "data": {
      "text/plain": [
       "{'name': 'iss',\n",
       " 'id': 25544,\n",
       " 'latitude': -10.89983765948,\n",
       " 'longitude': 50.946121148117,\n",
       " 'altitude': 423.59051028361,\n",
       " 'velocity': 27560.414895314,\n",
       " 'visibility': 'eclipsed',\n",
       " 'footprint': 4525.6854418738,\n",
       " 'timestamp': 1645567207,\n",
       " 'daynum': 2459633.4167477,\n",
       " 'solar_lat': -9.9449278375227,\n",
       " 'solar_lon': 213.32716246022,\n",
       " 'units': 'kilometers'}"
      ]
     },
     "execution_count": 3,
     "metadata": {},
     "output_type": "execute_result"
    }
   ],
   "source": [
    "#from pytrends.request import TrendReq\n",
    "#import pandas as pnds\n",
    "#import matplotlib.pyplot as plots\n",
    "#import matplotlib\n",
    "#from IPython.display import Image\n",
    "\n",
    "# ISS API request\n",
    "import requests\n",
    "re = requests.get(url='https://api.wheretheiss.at/v1/satellites/25544')\n",
    "re.json()"
   ]
  },
  {
   "cell_type": "code",
   "execution_count": 4,
   "id": "5b69eced",
   "metadata": {},
   "outputs": [],
   "source": []
  },
  {
   "cell_type": "code",
   "execution_count": null,
   "id": "52f74a7d",
   "metadata": {},
   "outputs": [],
   "source": []
  }
 ],
 "metadata": {
  "kernelspec": {
   "display_name": "Python 3 (ipykernel)",
   "language": "python",
   "name": "python3"
  },
  "language_info": {
   "codemirror_mode": {
    "name": "ipython",
    "version": 3
   },
   "file_extension": ".py",
   "mimetype": "text/x-python",
   "name": "python",
   "nbconvert_exporter": "python",
   "pygments_lexer": "ipython3",
   "version": "3.9.7"
  }
 },
 "nbformat": 4,
 "nbformat_minor": 5
}
