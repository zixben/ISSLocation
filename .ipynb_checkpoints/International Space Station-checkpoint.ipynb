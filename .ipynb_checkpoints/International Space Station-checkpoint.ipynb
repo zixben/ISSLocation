{
 "cells": [
  {
   "cell_type": "code",
   "execution_count": null,
   "id": "fc6dfc1d",
   "metadata": {},
   "outputs": [],
   "source": [
    "import time\n",
    "#import datetime\n",
    "import matplotlib.pyplot as plt\n",
    "from mpl_toolkits.basemap import Basemap\n",
    "\n",
    "%matplotlib notebook\n",
    "plt.rcParams['animation.html'] = 'jshtml'\n",
    "\n",
    "#date_to_print = datetime.datetime.now().strftime(\"%Y%m%d%H%M%S\")\n",
    "issData = []\n",
    "\n",
    "fig = plt.figure(figsize=(12, 6))\n",
    "map = Basemap(llcrnrlon=-180, llcrnrlat=-65,urcrnrlon=180,urcrnrlat=80)\n",
    "map.drawmapboundary(fill_color='#ffffff', linewidth=0)\n",
    "map.fillcontinents(color='red', alpha=0.5)\n",
    "map.drawcoastlines(linewidth=0.5, color=\"white\")\n",
    "fig.show()\n",
    "\n",
    "while True:\n",
    "    re = requests.get(url='https://api.wheretheiss.at/v1/satellites/25544')\n",
    "    issLocation = (re.json()) \n",
    "    \n",
    "    issData.append([issLocation['timestamp'],\n",
    "                                issLocation['latitude'],\n",
    "                                issLocation['longitude']\n",
    "                                ])\n",
    "\n",
    "    # dump copy to file\n",
    "    #tmp_space_station_data_df = pnds.DataFrame(issData, columns=['timestamp','latitude', 'longitude',])\n",
    "    #tmp_space_station_data_df.to_csv('ISS_location_' + date_to_print + '.csv', index=None)\n",
    "    \n",
    "    points = map.scatter(issLocation[\"longitude\"],\n",
    "                issLocation[\"latitude\"], \n",
    "          s=100, alpha=0.4,color='blue')\n",
    "    \n",
    "    fig.canvas.draw()   \n",
    "    points.remove()\n",
    "    \n",
    "    time.sleep(5)"
   ]
  }
 ],
 "metadata": {
  "kernelspec": {
   "display_name": "Python 3 (ipykernel)",
   "language": "python",
   "name": "python3"
  },
  "language_info": {
   "codemirror_mode": {
    "name": "ipython",
    "version": 3
   },
   "file_extension": ".py",
   "mimetype": "text/x-python",
   "name": "python",
   "nbconvert_exporter": "python",
   "pygments_lexer": "ipython3",
   "version": "3.9.7"
  }
 },
 "nbformat": 4,
 "nbformat_minor": 5
}
